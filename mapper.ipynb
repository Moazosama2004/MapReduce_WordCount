{
 "cells": [
  {
   "cell_type": "code",
   "execution_count": 15,
   "id": "05952247",
   "metadata": {},
   "outputs": [],
   "source": [
    "import nltk\n",
    "import string\n",
    "from collections import defaultdict"
   ]
  },
  {
   "cell_type": "code",
   "execution_count": 16,
   "id": "272ac088",
   "metadata": {},
   "outputs": [],
   "source": [
    "def map_reduce(input_text):\n",
    "    def mapper(input_text):\n",
    "        tokenized_words = nltk.tokenize.word_tokenize(input_text)\n",
    "        word_counts = defaultdict(int)\n",
    "        for word in tokenized_words:\n",
    "            word = word.lower()\n",
    "            word = word.strip(string.punctuation)\n",
    "            if word != '' and word.isalnum():\n",
    "                yield (word, 1)\n",
    "\n",
    "    def reducer(mapped_data):\n",
    "        word_counts = defaultdict(int)\n",
    "        for word, count in mapped_data:\n",
    "            word_counts[word] += count\n",
    "        return word_counts\n",
    "\n",
    "    mapped_data = list(mapper(input_text))\n",
    "\n",
    "    reduced_data = reducer(mapped_data)\n",
    "\n",
    "    return reduced_data, mapped_data"
   ]
  },
  {
   "cell_type": "code",
   "execution_count": 17,
   "id": "a55da634",
   "metadata": {},
   "outputs": [],
   "source": [
    "input_file_path = '101.txt'\n",
    "mapper_output_file_path = 'mapper_output.txt'\n",
    "reducer_output_file_path = 'reducer_output.txt'\n",
    "\n",
    "with open(input_file_path, 'r') as file:\n",
    "    input_text = file.read()\n",
    "\n",
    "result, mapped_data = map_reduce(input_text)"
   ]
  },
  {
   "cell_type": "code",
   "execution_count": 18,
   "id": "0bd6e189",
   "metadata": {},
   "outputs": [
    {
     "name": "stdout",
     "output_type": "stream",
     "text": [
      "Mapper output written to mapper_output.txt\n",
      "Reducer output written to reducer_output.txt\n"
     ]
    }
   ],
   "source": [
    "with open(mapper_output_file_path, 'w') as mapper_output_file:\n",
    "    for word, count in mapped_data:\n",
    "        mapper_output_file.write(f'{word}\\t{count}\\n')\n",
    "\n",
    "with open(reducer_output_file_path, 'w') as reducer_output_file:\n",
    "    for word, count in result.items():\n",
    "        reducer_output_file.write(f'{word}\\t{count}\\n')\n",
    "\n",
    "print(\"Mapper output written to\", mapper_output_file_path)\n",
    "print(\"Reducer output written to\", reducer_output_file_path)"
   ]
  }
 ],
 "metadata": {
  "kernelspec": {
   "display_name": "Python 3 (ipykernel)",
   "language": "python",
   "name": "python3"
  },
  "language_info": {
   "codemirror_mode": {
    "name": "ipython",
    "version": 3
   },
   "file_extension": ".py",
   "mimetype": "text/x-python",
   "name": "python",
   "nbconvert_exporter": "python",
   "pygments_lexer": "ipython3",
   "version": "3.9.13"
  }
 },
 "nbformat": 4,
 "nbformat_minor": 5
}
