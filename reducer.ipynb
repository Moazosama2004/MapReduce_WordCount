{
 "cells": [
  {
   "cell_type": "code",
   "execution_count": 8,
   "id": "daf1d906",
   "metadata": {},
   "outputs": [
    {
     "name": "stdout",
     "output_type": "stream",
     "text": [
      "Enter the path of the output text file: red.txt\n",
      "Word counts have been written to red.txt\n",
      "\n",
      "Top 10 occurring words are:\n",
      "wa 1151\n",
      "thi 727\n",
      "comput 656\n",
      "hi 466\n",
      "hacker 437\n",
      "servic 336\n",
      "system 318\n",
      "peopl 305\n",
      "board 303\n",
      "one 272\n"
     ]
    }
   ],
   "source": [
    "import nltk\n",
    "import string\n",
    "\n",
    "# Read input from a text file\n",
    "input_file_path = 'part.txt'\n",
    "with open(input_file_path, 'r') as file:\n",
    "    input_lines = file.readlines()\n",
    "\n",
    "freq = {}  # empty dictionary to store words and their counts\n",
    "\n",
    "for line in input_lines:\n",
    "    stopwords = nltk.corpus.stopwords.words('english') + list(string.punctuation)  # list of words to be filtered out\n",
    "    porter = nltk.stem.porter.PorterStemmer()\n",
    "    line = line.strip()  # remove leading and trailing whitespace\n",
    "    word, count = line.split('\\t')  # parse the input\n",
    "    word = word.lower()  # convert to lower case\n",
    "    word = porter.stem(word)  # stem words\n",
    "    if word not in stopwords and word.isalnum():  # check if word is not a stopword and is alphanumeric\n",
    "        freq[word] = freq.get(word, 0) + int(count)  # update the word count\n",
    "\n",
    "# Get the path for the output file\n",
    "output_file_path = input(\"Enter the path of the output text file: \")\n",
    "\n",
    "# Write the word counts to the output file\n",
    "with open(output_file_path, 'w') as file:\n",
    "    for key, value in freq.items():\n",
    "        file.write('%s\\t%s\\n' % (key, value))\n",
    "\n",
    "print(\"Word counts have been written to\", output_file_path)\n",
    "\n",
    "print(\"\\nTop 10 occurring words are:\")\n",
    "sorted_list = sorted(freq.items(), key=lambda keyvalue: keyvalue[1], reverse=True)[:10]  # sort dictionary in reverse order\n",
    "for word, count in sorted_list:\n",
    "    print(word, count)"
   ]
  },
  {
   "cell_type": "code",
   "execution_count": null,
   "id": "bb1ac770",
   "metadata": {},
   "outputs": [],
   "source": []
  }
 ],
 "metadata": {
  "kernelspec": {
   "display_name": "Python 3 (ipykernel)",
   "language": "python",
   "name": "python3"
  },
  "language_info": {
   "codemirror_mode": {
    "name": "ipython",
    "version": 3
   },
   "file_extension": ".py",
   "mimetype": "text/x-python",
   "name": "python",
   "nbconvert_exporter": "python",
   "pygments_lexer": "ipython3",
   "version": "3.9.13"
  }
 },
 "nbformat": 4,
 "nbformat_minor": 5
}
